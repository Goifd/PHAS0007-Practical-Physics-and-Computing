{
 "cells": [
  {
   "cell_type": "markdown",
   "metadata": {},
   "source": [
    "# PHAS0007 Reading Week assignment: Supplementary notebook\n",
    "#### louise.dash@ucl.ac.uk Last updated: 31/10/2019\n",
    "\n",
    "This notebook contains the following:\n",
    "\n",
    "* The equations from the script for the Reading Week assignment, already typeset for you\n",
    "* The code snippet you will need to paste for the curve_fit question\n",
    "* An example of how to reference using the Harvard style within a Jupyter Notebook.\n",
    "\n",
    "## Equations for the Reading Week assignment\n",
    "\n",
    "You may copy and paste these equations into your own notebook as required (in which case make sure this notebook is included in your list of references). You should also make sure these equations are suitably referenced, i.e. include a reference either to the script (Dash and Lemos, 2019) or to the appropriate section of Hughes and Hase (Hughes and Hase, 2010), etc.\n"
   ]
  },
  {
   "cell_type": "markdown",
   "metadata": {},
   "source": [
    "Equation (1):\n",
    "$$ v = H_0 D $$ \n",
    "\n",
    "Equation (2): \n",
    "$$ w_i = \\frac{1}{(\\Delta y_i)^2} $$\n",
    "\n",
    "Equations (3,4): \n",
    "$$  m = \\frac{\\sum_i w_i \\sum_i w_i x_i y_i - \\sum_i w_i x_i \\sum_i w_i\n",
    "y_i}{\\sum_i w_i \\sum_i w_i x_i^2 - \\left(\\sum_i w_i x_i \\right)^2}\\\\\n",
    "= \\frac{\\sum_i w_i \\sum_i w_i x_i y_i - \\sum_i w_i x_i \\sum_i w_i\n",
    "y_i}{\\delta} $$\n",
    "    \n",
    "Equation (5):\n",
    "$$ c = \\frac{\\sum_i w_i x_i^2 \\sum_i w_i y_i - \\sum_i w_i x_i \\sum_i w_i x_i y_i}{\\delta} $$\n",
    "\n",
    "Equation (6):\n",
    "$$ \\delta = \\sum_i w_i \\sum_i w_i x_i^2 - \\left(\\sum_i w_i x_i \\right)^2 $$\n",
    "\n",
    "Equation (7): \n",
    "$$ \\Delta m = \\sqrt{ \\frac{\\sum_i w_i}{\\delta}} $$\n",
    "\n",
    "Equation (8):\n",
    "$$ \\Delta c = \\sqrt{ \\frac{\\sum_i x_i^2 w_i}{\\delta}} $$\n",
    "\n"
   ]
  },
  {
   "cell_type": "markdown",
   "metadata": {},
   "source": [
    "## Code snippet for question 3\n",
    "This is the snippet of code you will need to use to answer question 3 of the assignment."
   ]
  },
  {
   "cell_type": "code",
   "execution_count": null,
   "metadata": {},
   "outputs": [],
   "source": [
    "### Use scipy's curve_fit function to fit the data\n",
    "### Louise Dash, October 2019\n",
    "###\n",
    "\n",
    "from scipy.optimize import curve_fit # we're importing just this one function from scipy.optimize\n",
    "\n",
    "# The code below (lines 11-18) is a function. We'll be covering functions\n",
    "# in session 6. You can watch the screencast for this session\n",
    "# at https://youtu.be/jK0cAnPhkJg\n",
    "\n",
    "def straight_line(x,m,c):\n",
    "    \"\"\"Calculates a straight line y = mx+c\n",
    "    Inputs: x value (or set of x values)\n",
    "            gradient of straight line m\n",
    "            y-intercept of straight line c\n",
    "    Returns: the corresponding y value(s)\"\"\"\n",
    "    y = m*x + c # equation for straight line\n",
    "    return y\n",
    "\n",
    "# Unweighted fit:\n",
    "# poptUW: Optimized parameters for the unweighted fit\n",
    "# pcovUW: matrix of covariance for the unweighted fit\n",
    "#   xi, yi: rename these to whatever variable names you have used\n",
    "#   for your x and y data respectively.  \n",
    "poptUW,pcovUW = curve_fit(straight_line,xi,yi)\n",
    "print (\"poptUW :\\n\", poptUW)\n",
    "print (\"pcovUW :\\n\", pcovUW)\n",
    "\n",
    "# Weighted fit\n",
    "# poptW: Optimized parameters for the weighted fit\n",
    "# pcovW: matrix of covariance for the weighted fit\n",
    "#   xi, yi: rename these to whatever variable names you have used\n",
    "#   for your x and y data respectively.  \n",
    "poptW,pcovW = curve_fit(straight_line,xi,yi, sigma=err, absolute_sigma=True)\n",
    "print (\"poptW :\\n\", poptW)\n",
    "print (\"pcovW :\\n\", pcovW)"
   ]
  },
  {
   "cell_type": "markdown",
   "metadata": {
    "collapsed": true
   },
   "source": [
    "## Bibliography\n",
    "\n",
    "* Dash, L and Lemos, P (2019). _\"PHAS0007 Reading Week Task 2019: Using least-squares fitting to calculate the Hubble constant\"_. UCL Moodle resource available from https://moodle.ucl.ac.uk/course/view.php?id=10648&section=13 \\[accessed 1 November 2019\\]\n",
    "\n",
    "* Hughes, I. and Hase, T. (2010). _\"Measurements and their uncertainties. A practical guide to modern error analysis\"_. Oxford University Press. http://UCL.eblib.com/patron/FullRecord.aspx?p=584562.\n"
   ]
  }
 ],
 "metadata": {
  "anaconda-cloud": {},
  "kernelspec": {
   "display_name": "Python 3",
   "language": "python",
   "name": "python3"
  },
  "language_info": {
   "codemirror_mode": {
    "name": "ipython",
    "version": 3
   },
   "file_extension": ".py",
   "mimetype": "text/x-python",
   "name": "python",
   "nbconvert_exporter": "python",
   "pygments_lexer": "ipython3",
   "version": "3.7.4"
  }
 },
 "nbformat": 4,
 "nbformat_minor": 1
}

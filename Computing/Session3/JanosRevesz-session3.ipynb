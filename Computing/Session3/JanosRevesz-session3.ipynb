{
 "cells": [
  {
   "cell_type": "markdown",
   "metadata": {},
   "source": [
    "# Janos Revesz: Session 3\n",
    "\n",
    "Your task for today is to complete this Jupyter Notebook. \n",
    "\n",
    "First, rename this notebook to \"Yourname-session3\", and change the title in this text cell to \"Yourname: Session 3\"\n",
    "(replacing \"Yourname\" with your actual name...)\n",
    "\n",
    "Then fill in the blank code and text cells below to answer the questions. \n",
    "Remember to:\n",
    "* include `#comments` in your code cells, and\n",
    "* where you are asked to complete text cells, make sure you use complete, grammatically correct sentences.\n",
    "\n",
    "Make sure you run the cell below to import the numpy module."
   ]
  },
  {
   "cell_type": "code",
   "execution_count": 1,
   "metadata": {},
   "outputs": [],
   "source": [
    "import numpy as np"
   ]
  },
  {
   "cell_type": "markdown",
   "metadata": {},
   "source": [
    "## Part 1:\n",
    "\n",
    "\n",
    "1. `np.array([0,5,10])` will create an array of **_integers_** starting at 0, finishing at 10, with interval 5. Use a different numpy function to create the same array automatically (i.e. choose an appropriate function from the list given in the \"Other ways to create arrays\" section of the script). Assign this to the variable name `array_a`"
   ]
  },
  {
   "cell_type": "code",
   "execution_count": 6,
   "metadata": {},
   "outputs": [
    {
     "name": "stdout",
     "output_type": "stream",
     "text": [
      "[ 0.  5. 10.]\n"
     ]
    }
   ],
   "source": [
    "array_a = np.linspace(0,10,3)\n",
    "print(array_a)"
   ]
  },
  {
   "cell_type": "markdown",
   "metadata": {},
   "source": [
    "2. Create (automatically, not using np.array!) another array that contains 3 equally-spaced floating point numbers starting at 2.5 and finishing at 3.5. Assign this to the variable name `array_b`.\n",
    "\n",
    "   Then use array slicing to output the second element of this array."
   ]
  },
  {
   "cell_type": "code",
   "execution_count": 4,
   "metadata": {},
   "outputs": [
    {
     "name": "stdout",
     "output_type": "stream",
     "text": [
      "[2.5 3.  3.5]\n"
     ]
    }
   ],
   "source": [
    "array_b = np.linspace(2.5,3.5,3)\n",
    "print(array_b)"
   ]
  },
  {
   "cell_type": "markdown",
   "metadata": {},
   "source": [
    "3. Use the multiplication operator `*` to multiply `array_a` and `array_b` together."
   ]
  },
  {
   "cell_type": "code",
   "execution_count": 7,
   "metadata": {},
   "outputs": [
    {
     "data": {
      "text/plain": [
       "array([ 0., 15., 35.])"
      ]
     },
     "execution_count": 7,
     "metadata": {},
     "output_type": "execute_result"
    }
   ],
   "source": [
    "array_a*array_b"
   ]
  },
  {
   "cell_type": "markdown",
   "metadata": {},
   "source": [
    "4. Use your awesome google skills to find numpy functions that will find the dot product and the cross product of these two arrays. Use a text cell to comment on the differences between this and using the `*` operator."
   ]
  },
  {
   "cell_type": "code",
   "execution_count": 59,
   "metadata": {},
   "outputs": [
    {
     "name": "stdout",
     "output_type": "stream",
     "text": [
      "50.0\n",
      "[-12.5  25.  -12.5]\n"
     ]
    }
   ],
   "source": [
    "print(np.dot(array_a, array_b))\n",
    "print(np.cross(array_a, array_b))"
   ]
  },
  {
   "cell_type": "markdown",
   "metadata": {},
   "source": [
    "##### STUDENT TEXT CELL: add to this text cell to complete your answer to question 4\n",
    "\n",
    "The difference between the dot product the cross product and the * product of two arrays is that the * product of the two arrays return a third array which elements are the product of the previous vector's corresponding elements, the dot product adds up the elements of the third array and that's the returned value and the cross product is the same as if we\n"
   ]
  },
  {
   "cell_type": "markdown",
   "metadata": {},
   "source": [
    "5. We met the \"`while`\" loop last week, and mentioned the \"`for`\" loop. An example of a \"`for`\" loop is in the cell below. Add comments to this cell *and* complete the text cell below to explain how this works."
   ]
  },
  {
   "cell_type": "code",
   "execution_count": 17,
   "metadata": {},
   "outputs": [
    {
     "name": "stdout",
     "output_type": "stream",
     "text": [
      "[1.    1.375 1.75  2.125 2.5  ]\n",
      "n is  1.0\n",
      "n*3 is  3.0\n",
      "n is  1.375\n",
      "n*3 is  4.125\n",
      "n is  1.75\n",
      "n*3 is  5.25\n",
      "n is  2.125\n",
      "n*3 is  6.375\n",
      "n is  2.5\n",
      "n*3 is  7.5\n",
      "Finished\n"
     ]
    }
   ],
   "source": [
    "# Creates the array called r with its elements being 5 points evenly spaced between 1 and 2.5 including 1 and 5\n",
    "r = np.linspace(1, 2.5, 5)\n",
    "# The elements of the array r are printed out\n",
    "print(r)\n",
    "\n",
    "# The for loop goes through each element of the array r and prints them out \n",
    "#  after that it prints out the element of the array times 3\n",
    "for n in r:\n",
    "    print(\"n is \", n)\n",
    "    print(\"n*3 is \", n*3)\n",
    "    \n",
    "# After going throught the loop \"Finished\" is printed out\n",
    "print(\"Finished\")"
   ]
  },
  {
   "cell_type": "markdown",
   "metadata": {},
   "source": [
    "##### STUDENT TEXT CELL: add to this text cell to complete your answer to question 5\n",
    "for loop:\n",
    " the loop starts with the 0th element of the array and finishes with the last elemen, at start n equals to the 0th element of the array, when the loop runs again it equals the first element of the array, the next time it equals the second element of the array and so on, basically it changes it's value to the next value of the array each time the for loop runs\n"
   ]
  },
  {
   "cell_type": "markdown",
   "metadata": {},
   "source": [
    "## Part 2:\n",
    "\n",
    "For this part of the task you will be working with the \"wheat spike\" example you saw in the first PHAS0007 \"Data Analysis and Statistics\" lecture, and use Python to reproduce some of the calculations you saw there.\n",
    "\n",
    "You'll probably want to consult the lecture slides on Dr Llorente Garcia's Moodle as well as the PHAS0007 Data Analysis Booklet.\n",
    "\n",
    "Download the file \"wheatdata.txt\" from Moodle and save it in the same directory as your Notebook. This data file contains the same data as on slide 11 of the lecture slides.\n",
    "\n",
    "1. Use the code cell below to:\n",
    "    * Import the data from this file into an array using `np.loadtxt()` - choose your own (sensible) variable name for this array.\n",
    "    * Print out the array with an appropriate text string."
   ]
  },
  {
   "cell_type": "code",
   "execution_count": 47,
   "metadata": {},
   "outputs": [
    {
     "name": "stdout",
     "output_type": "stream",
     "text": [
      "The values of wheatdata.txt:  [533. 440. 484. 446. 474. 492. 512. 515. 528. 572.]\n"
     ]
    }
   ],
   "source": [
    "# We export the data from wheatdata.txt, each data element of the txt is a value of the array exported_data\n",
    "exported_data = np.loadtxt(\"wheatdata.txt\")\n",
    "print(\"The values of wheatdata.txt: \",exported_data)"
   ]
  },
  {
   "cell_type": "markdown",
   "metadata": {},
   "source": [
    "2. Using information from the data analysis booklet or google, find the appropriate numpy function to calculate the mean number of spikes in each patch. Calculate this in the cell below, and again, output this with an appropriate text string."
   ]
  },
  {
   "cell_type": "code",
   "execution_count": 48,
   "metadata": {},
   "outputs": [
    {
     "name": "stdout",
     "output_type": "stream",
     "text": [
      "The average number of spikes in a patch from wheatdata.txt:  499.6\n"
     ]
    }
   ],
   "source": [
    "# Using the numpy library's average() function we average the values of exported_data\n",
    "average_spike = np.average(exported_data)\n",
    "print(\"The average number of spikes in a patch from wheatdata.txt: \", average_spike)"
   ]
  },
  {
   "cell_type": "markdown",
   "metadata": {},
   "source": [
    "3. The formula for the (sample) standard deviation is \n",
    "$$ \\sigma = \\sqrt{\\frac{\\sum{(x_i - \\bar{x})^2}}{N-1}}, $$\n",
    "\n",
    "   where $N$ is the number of data points and $\\bar{x}$ the average you just calculated. \n",
    "   \n",
    "   Use the python function `len()` to calculate a value for $N$ in the cell below, and again, output this with an appropriate text string. Remember, you can use \"SHIFT+TAB\" with the cursor on a function name to view the documentation for that function."
   ]
  },
  {
   "cell_type": "code",
   "execution_count": 49,
   "metadata": {},
   "outputs": [
    {
     "name": "stdout",
     "output_type": "stream",
     "text": [
      "number of data points in wheatdata.txt:  10\n"
     ]
    }
   ],
   "source": [
    "# Using the len() function we calculate the number of elements in the array exported_data\n",
    "num_data = len(exported_data)\n",
    "print(\"number of data points in wheatdata.txt: \", num_data)"
   ]
  },
  {
   "cell_type": "markdown",
   "metadata": {},
   "source": [
    "We're going to calculate the numerator of the equation for the standard deviation in steps. \n",
    "\n",
    "We can calculate the individual deviations $d_i = x_i - \\bar{x}$ as in the code cell below. \n",
    "\n",
    "You will need to make sure that the variable names here match the variable names you've chosen above."
   ]
  },
  {
   "cell_type": "code",
   "execution_count": 29,
   "metadata": {},
   "outputs": [
    {
     "name": "stdout",
     "output_type": "stream",
     "text": [
      "The individual deviations from the mean are [ 33.4 -59.6 -15.6 -53.6 -25.6  -7.6  12.4  15.4  28.4  72.4]\n"
     ]
    }
   ],
   "source": [
    "# Edit the variable names in this cell to match the variable names you have used above\n",
    "deviations = exported_data - average_spike # calculate individual deviations\n",
    "print(\"The individual deviations from the mean are\", deviations) # output this value with an appropriate text string"
   ]
  },
  {
   "cell_type": "markdown",
   "metadata": {},
   "source": [
    "Note how this works: `spike_data` is an array of values, but `mean_spikes` is a single value. Numpy will automatically subtract `mean_spikes` from every element of the array `spike_data`.\n",
    "\n"
   ]
  },
  {
   "cell_type": "markdown",
   "metadata": {},
   "source": [
    "5. Now we have calculated the individual deviations, we can square them, then sum them together using `np.sum()`. Do this in the cell below. Make sure you do the squaring and summing  in the right order though!\n",
    "\n",
    "   Remember to print out the result with an appropriate text string."
   ]
  },
  {
   "cell_type": "code",
   "execution_count": 51,
   "metadata": {},
   "outputs": [
    {
     "name": "stdout",
     "output_type": "stream",
     "text": [
      "The numerator from the formula of standard deviation:  14936.400000000001\n"
     ]
    }
   ],
   "source": [
    "# Square each value of the array deviation and make a new array called sqr_deviation with these values\n",
    "sqr_deviation = np.square(deviations)\n",
    "# Sum up all the values of sqr_deviation\n",
    "numerator = np.sum(sqr_deviation)\n",
    "print(\"The numerator from the formula of standard deviation: \",numerator)"
   ]
  },
  {
   "cell_type": "markdown",
   "metadata": {},
   "source": [
    "6. Now you have all the elements you need to calculate the standard deviation using the equation in question 3 above. Do this in the cell below. You should find your answer is close to (but not exactly the same as) the standard deviation calculated in the lecture slides. \n",
    "\n",
    "    Remember to print out the result with an appropriate text string. Yes, you will always need to do this."
   ]
  },
  {
   "cell_type": "code",
   "execution_count": 52,
   "metadata": {},
   "outputs": [
    {
     "name": "stdout",
     "output_type": "stream",
     "text": [
      "The standard deviation of the data from wheatdata.txt:  40.738188472243095\n"
     ]
    }
   ],
   "source": [
    "# Calculate the standard deviation with the numerator calculated above where N = num_data \n",
    "standard_deviation =  np.sqrt(numerator/(num_data - 1))\n",
    "print(\"The standard deviation of the data from wheatdata.txt: \",standard_deviation)"
   ]
  },
  {
   "cell_type": "markdown",
   "metadata": {},
   "source": [
    "That was rather an effort to calculate the standard deviation, and fortunately numpy has a function that will do this for you: `np.std()`.\n",
    "\n",
    "You do have to be a bit careful with this function, and you're about to see why. Run the cell below, compare the results to what you just calculated above, then read both the [documentation for `np.std()`](https://docs.scipy.org/doc/numpy/reference/generated/numpy.std.html) and the information in section 2.6 (p.13) of [Hughes and Hase](https://ebookcentral.proquest.com/lib/ucl/reader.action?docID=584562&ppg=25.) (You may need to sign in with your UCL credentials to access this link).\n",
    "\n",
    "7. Then use the text cell below to state which version of the standard deviation you should use here, and (briefly) why."
   ]
  },
  {
   "cell_type": "code",
   "execution_count": 53,
   "metadata": {},
   "outputs": [
    {
     "name": "stdout",
     "output_type": "stream",
     "text": [
      "Standard deviation: first calculation gives 38.647638996451 , second calculation gives 40.738188472243095\n"
     ]
    }
   ],
   "source": [
    "stdev_1 = np.std(exported_data)          # Edit to reflect your chosen variable names\n",
    "stdev_2 = np.std(exported_data, ddof=1)  # Edit to reflect your chosen variable names\n",
    "\n",
    "print(\"Standard deviation: first calculation gives\", stdev_1, \", second calculation gives\", stdev_2)"
   ]
  },
  {
   "cell_type": "markdown",
   "metadata": {},
   "source": [
    "##### STUDENT TEXT CELL: add to this text cell to answer question 7\n",
    "The second version should be used. In the first version the denumerator is equal to the number of data we use in the second version the denumerator is the number of data we use minus one. "
   ]
  },
  {
   "cell_type": "markdown",
   "metadata": {},
   "source": [
    "8. We can also calculate the standard error of the mean, which is given by \n",
    "   $$\\alpha = \\frac{\\sigma_{N-1}}{\\sqrt{N}}$$\n",
    "   Apply what you've learned above to calculate this in the cell below. "
   ]
  },
  {
   "cell_type": "code",
   "execution_count": 54,
   "metadata": {},
   "outputs": [
    {
     "name": "stdout",
     "output_type": "stream",
     "text": [
      "The standard error of the mean is:  12.882546332150334\n"
     ]
    }
   ],
   "source": [
    "# Calculate the standard error of the mean using the values calculated above\n",
    "# the numerator is standard_deviation and N is num_data\n",
    "standard_err_mean = standard_deviation/np.sqrt(num_data)\n",
    "print(\"The standard error of the mean is: \",standard_err_mean)"
   ]
  },
  {
   "cell_type": "markdown",
   "metadata": {},
   "source": [
    "9. Finally, use your google skills to find a python function that will calculate the standard error of the mean for you, and verify that you get the same result when using this function (hint: this function is not in numpy, you will need to import another module!)"
   ]
  },
  {
   "cell_type": "code",
   "execution_count": 58,
   "metadata": {},
   "outputs": [
    {
     "name": "stdout",
     "output_type": "stream",
     "text": [
      "The standard error of the mean is:  12.882546332150334\n"
     ]
    }
   ],
   "source": [
    "from scipy import stats\n",
    "# Calculate the standard error of the mean using the stats.sem() function from the library scipy\n",
    "std_err_mean = stats.sem(exported_data)\n",
    "print(\"The standard error of the mean is: \", std_err_mean)"
   ]
  },
  {
   "cell_type": "code",
   "execution_count": null,
   "metadata": {},
   "outputs": [],
   "source": []
  }
 ],
 "metadata": {
  "kernelspec": {
   "display_name": "Python 3",
   "language": "python",
   "name": "python3"
  },
  "language_info": {
   "codemirror_mode": {
    "name": "ipython",
    "version": 3
   },
   "file_extension": ".py",
   "mimetype": "text/x-python",
   "name": "python",
   "nbconvert_exporter": "python",
   "pygments_lexer": "ipython3",
   "version": "3.7.3"
  }
 },
 "nbformat": 4,
 "nbformat_minor": 2
}

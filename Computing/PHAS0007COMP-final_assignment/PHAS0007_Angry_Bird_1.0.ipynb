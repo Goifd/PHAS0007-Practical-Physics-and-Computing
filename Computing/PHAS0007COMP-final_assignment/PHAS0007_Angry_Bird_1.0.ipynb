{
 "cells": [
  {
   "cell_type": "code",
   "execution_count": 1,
   "metadata": {},
   "outputs": [
    {
     "data": {
      "text/html": [
       "<div id=\"glowscript\" class=\"glowscript\"></div>"
      ],
      "text/plain": [
       "<IPython.core.display.HTML object>"
      ]
     },
     "metadata": {},
     "output_type": "display_data"
    },
    {
     "data": {
      "application/javascript": [
       "if (typeof Jupyter !== \"undefined\") { window.__context = { glowscript_container: $(\"#glowscript\").removeAttr(\"id\")};}else{ element.textContent = ' ';}"
      ],
      "text/plain": [
       "<IPython.core.display.Javascript object>"
      ]
     },
     "metadata": {},
     "output_type": "display_data"
    }
   ],
   "source": [
    "# IMPORT LIBRARIES\n",
    "import numpy as np\n",
    "from vpython import sphere, color, rate, canvas, vector, curve, random, button, label, box, cross, mag, arrow, sleep, local_light, cone, pyramid, compound"
   ]
  },
  {
   "cell_type": "code",
   "execution_count": 2,
   "metadata": {},
   "outputs": [],
   "source": [
    "# the create bird function\n",
    "def create_bird():\n",
    "    rnd_h = random()\n",
    "    R=0.3\n",
    "    r=0.19\n",
    "    h_p = 0.3\n",
    "    nose = cone(pos=vector((R+r)*np.sqrt(2)/2+r, rnd_h+(R+r)*np.sqrt(2)/2,0),axis=vector(0.3,0,0),radius=0.1,color=color.yellow)\n",
    "    body = sphere(pos=vector(0,rnd_h,0),color=color.red, radius = R)\n",
    "    head = sphere(pos=vector((R+r)*np.sqrt(2)/2, rnd_h+(R+r)*np.sqrt(2)/2,0), radius=r,color=0.01*vector(255,69,0))\n",
    "    tail = pyramid(pos=vector(-r-h_p,rnd_h,0),size=vector(0.25,0.25,h_p),color=color.black)\n",
    "    bird = compound([nose, body, head, tail])\n",
    "    bird.make_trail = True\n",
    "    bird.trail_type = \"points\"\n",
    "    bird.interval  = 10\n",
    "    bird.trail_color = 0.01*vector(66.3, 66.3, 66.3)"
   ]
  },
  {
   "cell_type": "code",
   "execution_count": null,
   "metadata": {},
   "outputs": [
    {
     "data": {
      "text/html": [
       "<div id=\"glowscript\" class=\"glowscript\"></div>"
      ],
      "text/plain": [
       "<IPython.core.display.HTML object>"
      ]
     },
     "metadata": {},
     "output_type": "display_data"
    },
    {
     "data": {
      "application/javascript": [
       "if (typeof Jupyter !== \"undefined\") { window.__context = { glowscript_container: $(\"#glowscript\").removeAttr(\"id\")};}else{ element.textContent = ' ';}"
      ],
      "text/plain": [
       "<IPython.core.display.Javascript object>"
      ]
     },
     "metadata": {},
     "output_type": "display_data"
    }
   ],
   "source": [
    "# FROM THE PDF\n",
    "scene = canvas(width=640, height=480, center=vector(8,5,0),range=8,background = 0.01*vector(39.6, 84.7, 100))\n",
    "ground = curve(pos=[(0,0,0),(16,0,0)],color=color.green)\n",
    "\n",
    "\n",
    "\n",
    "# SET INITIAL VALUES\n",
    "g = 9.81\n",
    "contact_t = 0.01\n",
    "step_t = 0.0001\n",
    "m_bird = 0.1\n",
    "m_box = 100\n",
    "t = 0\n",
    "posX = 0\n",
    "posY = 0\n",
    "no_topple = True\n",
    "attempts_no = 0\n",
    "rate(5000)\n",
    "\n",
    "# CREATE TARGET, BIRD, LABEL1 AND MOMENTUM VECTOR\n",
    "\n",
    "# target\n",
    "rnd_X = 5 + random()*10\n",
    "target_box = box(pos=vector(rnd_X,1,0), length=0.5, height=2, width=0.5,color=0.01*vector(62.4, 41.2, 20.4))\n",
    "\n",
    "# bird\n",
    "create_bird()\n",
    "\n",
    "# momentum vector\n",
    "momentum_arrow = arrow(pos=vector(posX,posY,0), axis=vector(0,0,0))\n",
    "\n",
    "# create label 1\n",
    "label1 = label(pos=vector(10,10,0), text='', visible = False)\n",
    "\n",
    "# wait to load the objects\n",
    "sleep(2)\n",
    "\n",
    "\n",
    "# MAIN LOOP OF THE GAME, GOES ON UNTIL THE TARGET IS TOPPLED\n",
    "while no_topple:\n",
    "    \n",
    "    # increase the number of attempts\n",
    "    attempts_no += 1\n",
    "    \n",
    "    # RESET THE VISUALS\n",
    "    # disappear the label\n",
    "    label1.visible = False\n",
    "    # reset bird's position\n",
    "    bird.pos=vector(0,rnd_h,0)    \n",
    "    # \"delete\" the old momentum arrow\n",
    "    momentum_arrow.visible = False   \n",
    "    # wait for the visuals to reset\n",
    "    sleep(1)\n",
    "    \n",
    "    # input initial conditions (angle and speed)\n",
    "    dtheta = float(input(\"Input the initial angle in degrees: \"))\n",
    "    theta = np.radians(dtheta)\n",
    "    v0 = float(input(\"Input the initial speed in metres/second: \"))\n",
    "    \n",
    "    # calculate Vx and Vy from the user input v0\n",
    "    vX = v0*np.cos(theta)\n",
    "    vY = v0*np.sin(theta)\n",
    "    \n",
    "    # reset posY, posX, t and hit\n",
    "    posY = rnd_h\n",
    "    posX = 0\n",
    "    t=0\n",
    "    hit =  False\n",
    "    \n",
    "    # calculate the new momentum vector and display it\n",
    "    momentum_arrow.axis = m_bird*vector(vX,vY-g*t,0)\n",
    "    momentum_arrow.visible = True\n",
    "    \n",
    "    # START ANIMATION\n",
    "    while posY >= 0 and posX<=16: \n",
    "        rate(5000)\n",
    "        t+=0.0001\n",
    "        posY = rnd_h + vY*t - g/2*t**2                         #into function\n",
    "        posX = vX*t\n",
    "        bird.pos = vector(posX,posY,0)\n",
    "        momentum_arrow.pos = vector(posX,posY,0)\n",
    "        momentum_arrow.axis = m_bird*vector(vX,vY-g*t,0)\n",
    "        #sleep(0.0000001)\n",
    "               \n",
    "        # Calculating if its a hit or not\n",
    "        if ((rnd_X-0.5)<=posX<=(rnd_X+0.5)) and (0<=posY<=2):\n",
    "            \n",
    "            hit = True\n",
    "            label1 = label(pos=vector(10,10,0), text='It is a hit!')\n",
    "            \n",
    "            # Calculating if it will fall\n",
    "            rest_T = m_box*g*0.5*0.5\n",
    "            F = m_bird*vector(vX,vY-g*t,0)/contact_t # 10*vector(...)      ###put this into a funciton\n",
    "            appl_T = cross(F,vector(posX-rnd_X+0.25,posY,0))\n",
    "            mag_appl_T = mag(appl_T)\n",
    "            \n",
    "            # print statements to inform the user\n",
    "            print(\"The ball hit the target!\")\n",
    "            print(\"The height of the impact is {0}m\".format(posY))\n",
    "            print(\"The bird's momentum at the point of impact: {0}kgm/s\".format(mag(m_bird*vector(vX,vY-g*t,0))))   ###func\n",
    "            print(\"The applied torque is {0}Nm\".format(mag_appl_T))\n",
    "            print(\"The restoring torque is {0}Nm\".format(rest_T))\n",
    "            \n",
    "            #arrow2 = arrow(pos=vector(rnd_X,0,0), axis=vector(posX-rnd_X+0.25,posY,0))\n",
    "            if mag_appl_T>rest_T:\n",
    "                print(\"IT WILL TOPPLE!!\")\n",
    "                print(\"----------------------------\")\n",
    "                no_topple = False\n",
    "                break\n",
    "            else:\n",
    "                print(\"IT WONT TOPPLE :( \")\n",
    "                print(\"----------------------------\")\n",
    "                break\n",
    "    \n",
    "    # Output these if the bird did not hit the target\n",
    "    if hit==False:\n",
    "        print(\" No hit, try again!\")\n",
    "        print(\"The ball landed at x= {0}\".format(posX))\n",
    "        print(\"----------------------------\")\n",
    "            \n",
    "\n",
    "#target_box.visible = False\n",
    "momentum_arrow.visible = False\n",
    "label1.text = \"You have toppled the box\"\n",
    "\n",
    "# the box falling animation\n",
    "rate(1500)\n",
    "hit_body = compound([bird, target_box])\n",
    "angle_ = 0.01\n",
    "while angle_ < 3.141592/2:     ####into function\n",
    "    rate(1500)\n",
    "    angle_+=0.001\n",
    "    hit_body.rotate(angle=-0.001, origin = vector(rnd_X+0.25,0,0.25), axis = vector(0,0,0.5))\n",
    "    \n",
    "\n"
   ]
  },
  {
   "cell_type": "markdown",
   "metadata": {},
   "source": []
  },
  {
   "cell_type": "code",
   "execution_count": null,
   "metadata": {},
   "outputs": [],
   "source": []
  }
 ],
 "metadata": {
  "kernelspec": {
   "display_name": "Python 3",
   "language": "python",
   "name": "python3"
  },
  "language_info": {
   "codemirror_mode": {
    "name": "ipython",
    "version": 3
   },
   "file_extension": ".py",
   "mimetype": "text/x-python",
   "name": "python",
   "nbconvert_exporter": "python",
   "pygments_lexer": "ipython3",
   "version": "3.7.4"
  }
 },
 "nbformat": 4,
 "nbformat_minor": 2
}
